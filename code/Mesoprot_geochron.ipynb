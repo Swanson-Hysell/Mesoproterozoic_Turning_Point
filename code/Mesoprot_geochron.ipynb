{
 "cells": [
  {
   "cell_type": "markdown",
   "metadata": {},
   "source": [
    "# Synthesizing the chronology of late Mesoproterozoic Laurentia tectonics"
   ]
  },
  {
   "cell_type": "markdown",
   "metadata": {},
   "source": [
    "## Import scientific Python packages"
   ]
  },
  {
   "cell_type": "code",
   "execution_count": 1,
   "metadata": {},
   "outputs": [],
   "source": [
    "import numpy as np\n",
    "import pandas as pd\n",
    "import matplotlib.pyplot as plt\n",
    "from matplotlib import gridspec\n",
    "import matplotlib.lines as mlines\n",
    "import matplotlib.patches as patches\n",
    "import matplotlib\n",
    "import seaborn as sns\n",
    "%config InlineBackend.figure_format='retina'"
   ]
  },
  {
   "cell_type": "markdown",
   "metadata": {},
   "source": [
    "## Import compiled data"
   ]
  },
  {
   "cell_type": "code",
   "execution_count": 2,
   "metadata": {},
   "outputs": [
    {
     "data": {
      "text/plain": [
       "Index(['Sample_No', 'Age', 'Error_Plus', 'Error_Minus', 'Age_Method',\n",
       "       'Age_Interpretation', 'Age_Note', 'Age_Material', 'Age_Technique',\n",
       "       'Age_Qualifier', 'Geological_Province', 'Province', 'Latitude',\n",
       "       'Longitude', 'Location', '\\n', 'Rock_Type', 'Rock_Description',\n",
       "       'References', 'Compilation_Source', 'Unnamed: 20', 'UTM_Zone',\n",
       "       'UTM_Easting', 'UTM_Northing', 'Comment', 'Tectonic_Unit'],\n",
       "      dtype='object')"
      ]
     },
     "execution_count": 2,
     "metadata": {},
     "output_type": "execute_result"
    }
   ],
   "source": [
    "dates = pd.read_csv('../data/Mesoproterozoic_Laurentia_dates.csv')\n",
    "dates.columns"
   ]
  },
  {
   "cell_type": "markdown",
   "metadata": {},
   "source": [
    "## Define legend symbology"
   ]
  },
  {
   "cell_type": "code",
   "execution_count": 3,
   "metadata": {},
   "outputs": [
    {
     "data": {
      "image/png": "[encoded data removed]",
      "text/plain": [
       "<Figure size 432x288 with 1 Axes>"
      ]
     },
     "metadata": {
      "image/png": {
       "height": 248,
       "width": 386
      },
      "needs_background": "light"
     },
     "output_type": "display_data"
    }
   ],
   "source": [
    "zircon_marker = plt.scatter([], [], c='C0', marker='d', label='zircon (U-Pb)')\n",
    "bad_marker = plt.scatter([], [], c='C1', marker='d', label='baddeleyite (U-Pb)')\n",
    "perov_marker = plt.scatter([], [], c='C2', marker='d', label='perovskite (U-Pb)')\n",
    "phlog_marker = plt.scatter([], [], c='darkkhaki', marker='d', label='phlogopite (Ar-Ar)')\n",
    "plt.legend(handles=[zircon_marker,bad_marker,perov_marker,phlog_marker],loc=4)\n",
    "plt.show()"
   ]
  },
  {
   "cell_type": "markdown",
   "metadata": {},
   "source": [
    "## Implement bootstrap method for duration estimates"
   ]
  },
  {
   "cell_type": "code",
   "execution_count": 4,
   "metadata": {},
   "outputs": [],
   "source": [
    "def bootstrap_calc_plot(dates,bootstrap_n=10000,kde_bandwidth=0.8):\n",
    "\n",
    "    bootstrapped_mins = []\n",
    "    bootstrapped_maxs = []\n",
    "\n",
    "    for i in range(0,bootstrap_n):\n",
    "\n",
    "        bootstrapped_dates = []\n",
    "\n",
    "        resampled_data = dates.sample(n=len(dates),replace = True)\n",
    "        resampled_data.reset_index(inplace=True)\n",
    "\n",
    "        for n in resampled_data.index:\n",
    "            bootstrapped_date = np.random.normal(resampled_data.Age[n], resampled_data.Error_Plus[n]/2, 1)\n",
    "            bootstrapped_dates.append(bootstrapped_date[0])\n",
    "\n",
    "        bootstrapped_mins.append(np.min(bootstrapped_dates)) \n",
    "        bootstrapped_maxs.append(np.max(bootstrapped_dates)) \n",
    "        if 1000-i > 0:\n",
    "            sns.kdeplot(bootstrapped_dates,bw_adjust=kde_bandwidth,alpha=0.5,color='C0',shade=False,linewidth=0.1)\n",
    "            \n",
    "    sns.kdeplot(dates.Age,bw_adjust=kde_bandwidth,color='black')\n",
    "            \n",
    "    max_age = np.percentile(bootstrapped_maxs,2.5)\n",
    "    min_age = np.percentile(bootstrapped_mins,97.5)\n",
    "    \n",
    "    return bootstrapped_maxs,bootstrapped_mins,max_age,min_age\n",
    "\n",
    "def plot_bootstrap_hist(bootstrapped_maxs,bootstrapped_mins,max_age,min_age):\n",
    "    hist_min = plt.hist(bootstrapped_mins,bins=np.arange(1100,1200,0.5),label='bootstrap min')\n",
    "    hist_max = plt.hist(bootstrapped_maxs,bins=np.arange(1100,1200,0.5),label='bootstrap max')\n",
    "    rect = patches.Rectangle((min_age, 0), max_age-min_age, np.max(hist_max[0]), facecolor='lightgrey',zorder=-1,label=\n",
    "                        'duration estimate')\n",
    "    plt.gca().add_patch(rect)"
   ]
  },
  {
   "cell_type": "markdown",
   "metadata": {},
   "source": [
    "## AMCG"
   ]
  },
  {
   "cell_type": "code",
   "execution_count": 5,
   "metadata": {},
   "outputs": [
    {
     "ename": "AttributeError",
     "evalue": "'DataFrame' object has no attribute 'Geological_Info'",
     "output_type": "error",
     "traceback": [
      "\u001b[0;31m---------------------------------------------------------------------------\u001b[0m",
      "\u001b[0;31mAttributeError\u001b[0m                            Traceback (most recent call last)",
      "\u001b[0;32m<ipython-input-5-28caeea70235>\u001b[0m in \u001b[0;36m<module>\u001b[0;34m\u001b[0m\n\u001b[0;32m----> 1\u001b[0;31m \u001b[0mAMCG_dates\u001b[0m \u001b[0;34m=\u001b[0m \u001b[0mdates\u001b[0m\u001b[0;34m[\u001b[0m\u001b[0mdates\u001b[0m\u001b[0;34m.\u001b[0m\u001b[0mGeological_Info\u001b[0m \u001b[0;34m==\u001b[0m \u001b[0;34m'AMCG'\u001b[0m\u001b[0;34m]\u001b[0m\u001b[0;34m\u001b[0m\u001b[0;34m\u001b[0m\u001b[0m\n\u001b[0m\u001b[1;32m      2\u001b[0m \u001b[0mAMCG_dates\u001b[0m \u001b[0;34m=\u001b[0m \u001b[0mAMCG_dates\u001b[0m\u001b[0;34m[\u001b[0m\u001b[0mAMCG_dates\u001b[0m\u001b[0;34m.\u001b[0m\u001b[0mAge_Interpretation\u001b[0m \u001b[0;34m==\u001b[0m \u001b[0;34m'Igneous'\u001b[0m\u001b[0;34m]\u001b[0m\u001b[0;34m\u001b[0m\u001b[0;34m\u001b[0m\u001b[0m\n\u001b[1;32m      3\u001b[0m \u001b[0mAMCG_dates\u001b[0m \u001b[0;34m=\u001b[0m \u001b[0mAMCG_dates\u001b[0m\u001b[0;34m.\u001b[0m\u001b[0msort_values\u001b[0m\u001b[0;34m(\u001b[0m\u001b[0;34m'Age'\u001b[0m\u001b[0;34m,\u001b[0m\u001b[0mascending\u001b[0m\u001b[0;34m=\u001b[0m\u001b[0;32mFalse\u001b[0m\u001b[0;34m)\u001b[0m\u001b[0;34m\u001b[0m\u001b[0;34m\u001b[0m\u001b[0m\n\u001b[1;32m      4\u001b[0m \u001b[0mAMCG_dates\u001b[0m\u001b[0;34m.\u001b[0m\u001b[0mreset_index\u001b[0m\u001b[0;34m(\u001b[0m\u001b[0minplace\u001b[0m\u001b[0;34m=\u001b[0m\u001b[0;32mTrue\u001b[0m\u001b[0;34m)\u001b[0m\u001b[0;34m\u001b[0m\u001b[0;34m\u001b[0m\u001b[0m\n",
      "\u001b[0;32m/opt/anaconda3/lib/python3.8/site-packages/pandas/core/generic.py\u001b[0m in \u001b[0;36m__getattr__\u001b[0;34m(self, name)\u001b[0m\n\u001b[1;32m   5137\u001b[0m             \u001b[0;32mif\u001b[0m \u001b[0mself\u001b[0m\u001b[0;34m.\u001b[0m\u001b[0m_info_axis\u001b[0m\u001b[0;34m.\u001b[0m\u001b[0m_can_hold_identifiers_and_holds_name\u001b[0m\u001b[0;34m(\u001b[0m\u001b[0mname\u001b[0m\u001b[0;34m)\u001b[0m\u001b[0;34m:\u001b[0m\u001b[0;34m\u001b[0m\u001b[0;34m\u001b[0m\u001b[0m\n\u001b[1;32m   5138\u001b[0m                 \u001b[0;32mreturn\u001b[0m \u001b[0mself\u001b[0m\u001b[0;34m[\u001b[0m\u001b[0mname\u001b[0m\u001b[0;34m]\u001b[0m\u001b[0;34m\u001b[0m\u001b[0;34m\u001b[0m\u001b[0m\n\u001b[0;32m-> 5139\u001b[0;31m             \u001b[0;32mreturn\u001b[0m \u001b[0mobject\u001b[0m\u001b[0;34m.\u001b[0m\u001b[0m__getattribute__\u001b[0m\u001b[0;34m(\u001b[0m\u001b[0mself\u001b[0m\u001b[0;34m,\u001b[0m \u001b[0mname\u001b[0m\u001b[0;34m)\u001b[0m\u001b[0;34m\u001b[0m\u001b[0;34m\u001b[0m\u001b[0m\n\u001b[0m\u001b[1;32m   5140\u001b[0m \u001b[0;34m\u001b[0m\u001b[0m\n\u001b[1;32m   5141\u001b[0m     \u001b[0;32mdef\u001b[0m \u001b[0m__setattr__\u001b[0m\u001b[0;34m(\u001b[0m\u001b[0mself\u001b[0m\u001b[0;34m,\u001b[0m \u001b[0mname\u001b[0m\u001b[0;34m:\u001b[0m \u001b[0mstr\u001b[0m\u001b[0;34m,\u001b[0m \u001b[0mvalue\u001b[0m\u001b[0;34m)\u001b[0m \u001b[0;34m->\u001b[0m \u001b[0;32mNone\u001b[0m\u001b[0;34m:\u001b[0m\u001b[0;34m\u001b[0m\u001b[0;34m\u001b[0m\u001b[0m\n",
      "\u001b[0;31mAttributeError\u001b[0m: 'DataFrame' object has no attribute 'Geological_Info'"
     ]
    }
   ],
   "source": [
    "AMCG_dates = dates[dates.Geological_Info == 'AMCG']\n",
    "AMCG_dates = AMCG_dates[AMCG_dates.Age_Interpretation == 'Igneous']\n",
    "AMCG_dates = AMCG_dates.sort_values('Age',ascending=False)\n",
    "AMCG_dates.reset_index(inplace=True)"
   ]
  },
  {
   "cell_type": "code",
   "execution_count": null,
   "metadata": {},
   "outputs": [],
   "source": [
    "fig = plt.figure(figsize=(6,6))\n",
    "spec = gridspec.GridSpec(ncols=1, nrows=3,\n",
    "                         height_ratios=[4, 2, 2])\n",
    "\n",
    "fig.add_subplot(spec[0])\n",
    "\n",
    "plt.errorbar(AMCG_dates.Age,\n",
    "             AMCG_dates.index,\n",
    "             xerr=AMCG_dates.Error_Plus,\n",
    "             fmt='d',color='C0',label='zircon crystallization')\n",
    "\n",
    "plt.gca().set_yticks([])\n",
    "plt.gca().set_xticks([])\n",
    "\n",
    "plt.legend(handles=[zircon_marker],loc=4)\n",
    "plt.xlim(1200,1100)\n",
    "\n",
    "fig.add_subplot(spec[1])\n",
    "\n",
    "boot_maxs,boot_mins,AMCG_max,AMCG_min = bootstrap_calc_plot(AMCG_dates,bootstrap_n=1000)\n",
    "plt.xlim(1200,1100)\n",
    "plt.gca().set_xticks([])\n",
    "\n",
    "fig.add_subplot(spec[2])\n",
    "plot_bootstrap_hist(boot_maxs,boot_mins,AMCG_max,AMCG_min)\n",
    "\n",
    "plt.legend(framealpha=1)\n",
    "plt.xlim(1200,1100)\n",
    "\n",
    "plt.show()"
   ]
  },
  {
   "cell_type": "code",
   "execution_count": null,
   "metadata": {},
   "outputs": [],
   "source": [
    "AMCG_max = np.percentile(boot_maxs,2.5)\n",
    "AMCG_min = np.percentile(boot_mins,97.5)\n",
    "\n",
    "AMCG_max_median = np.median(boot_maxs)\n",
    "AMCG_min_median = np.median(boot_mins)\n",
    "\n",
    "print(AMCG_max)\n",
    "print(AMCG_min)\n",
    "\n",
    "print(AMCG_max_median)\n",
    "print(AMCG_min_median)"
   ]
  },
  {
   "cell_type": "markdown",
   "metadata": {},
   "source": [
    "## Midcontinent crystallization dates (preceding Midcontinent Rift)"
   ]
  },
  {
   "cell_type": "code",
   "execution_count": null,
   "metadata": {},
   "outputs": [],
   "source": [
    "Abitibi_dates = dates[dates.Geological_Province == 'Midcontinent']\n",
    "Abitibi_dates = Abitibi_dates.sort_values('Age',ascending=False)\n",
    "Abitibi_dates.reset_index(inplace=True)\n",
    "\n",
    "Abitibi_dates_b = Abitibi_dates[Abitibi_dates.Age_Material == 'Baddeleyite']\n",
    "Abitibi_dates_perov = Abitibi_dates[Abitibi_dates.Age_Material == 'Perovskite']\n",
    "Abitibi_dates_phlog = Abitibi_dates[Abitibi_dates.Age_Material == 'Phlogopite']"
   ]
  },
  {
   "cell_type": "code",
   "execution_count": null,
   "metadata": {},
   "outputs": [],
   "source": [
    "fig = plt.figure(figsize=(6,6))\n",
    "spec = gridspec.GridSpec(ncols=1, nrows=3,\n",
    "                         height_ratios=[4, 2, 2])\n",
    "\n",
    "fig.add_subplot(spec[0])\n",
    "\n",
    "plt.errorbar(Abitibi_dates_b.Age,\n",
    "             Abitibi_dates_b.index,\n",
    "             xerr=Abitibi_dates_b.Error_Plus,\n",
    "             fmt='d',color='C1')\n",
    "\n",
    "plt.errorbar(Abitibi_dates_perov.Age,\n",
    "             Abitibi_dates_perov.index,\n",
    "             xerr=Abitibi_dates_perov.Error_Plus,\n",
    "             fmt='d',color='C2')\n",
    "\n",
    "plt.errorbar(Abitibi_dates_phlog.Age,\n",
    "             Abitibi_dates_phlog.index,\n",
    "             xerr=Abitibi_dates_phlog.Error_Plus,\n",
    "             fmt='d',color='darkkhaki')\n",
    "\n",
    "plt.gca().set_yticks([])\n",
    "#plt.gca().set_xticks([])\n",
    "plt.legend(handles=[zircon_marker,bad_marker,perov_marker,phlog_marker],loc=4)\n",
    "plt.xlim(1200,1100)\n",
    "\n",
    "fig.add_subplot(spec[1])\n",
    "\n",
    "boot_maxs,boot_mins,Abitibi_max,Abitibi_min = bootstrap_calc_plot(Abitibi_dates,bootstrap_n=1000)\n",
    "plt.xlim(1200,1100)\n",
    "plt.gca().set_xticks([])\n",
    "\n",
    "fig.add_subplot(spec[2])\n",
    "plot_bootstrap_hist(boot_maxs,boot_mins,Abitibi_max,Abitibi_min)\n",
    "\n",
    "plt.legend(framealpha=1)\n",
    "plt.xlim(1200,1100)\n",
    "\n",
    "plt.show()"
   ]
  },
  {
   "cell_type": "code",
   "execution_count": null,
   "metadata": {},
   "outputs": [],
   "source": [
    "Abitibi_max = np.percentile(boot_maxs,2.5)\n",
    "Abitibi_min = np.percentile(boot_mins,97.5)\n",
    "\n",
    "Abitibi_max_median = np.median(boot_maxs)\n",
    "Abitibi_min_median = np.median(boot_mins)\n",
    "\n",
    "print(Abitibi_max)\n",
    "print(Abitibi_min)\n",
    "\n",
    "print(Abitibi_max_median)\n",
    "print(Abitibi_min_median)"
   ]
  },
  {
   "cell_type": "code",
   "execution_count": null,
   "metadata": {},
   "outputs": [],
   "source": [
    "fig = plt.figure(figsize=(6,6))\n",
    "spec = gridspec.GridSpec(ncols=1, nrows=3,\n",
    "                         height_ratios=[4, 2, 2])\n",
    "\n",
    "fig.add_subplot(spec[0])\n",
    "\n",
    "plt.errorbar(Abitibi_dates_b.Age,\n",
    "             Abitibi_dates_b.index,\n",
    "             xerr=Abitibi_dates_b.Error_Plus,\n",
    "             fmt='d',color='C1')\n",
    "\n",
    "plt.errorbar(Abitibi_dates_perov.Age,\n",
    "             Abitibi_dates_perov.index,\n",
    "             xerr=Abitibi_dates_perov.Error_Plus,\n",
    "             fmt='d',color='C2')\n",
    "\n",
    "plt.errorbar(Abitibi_dates_phlog.Age,\n",
    "             Abitibi_dates_phlog.index,\n",
    "             xerr=Abitibi_dates_phlog.Error_Plus,\n",
    "             fmt='d',color='darkkhaki')\n",
    "\n",
    "plt.gca().set_yticks([])\n",
    "plt.gca().set_xticks([])\n",
    "bad_marker = plt.scatter([], [], c='C1', marker='d', label='baddeleyite (U-Pb)')\n",
    "perov_marker = plt.scatter([], [], c='C2', marker='d', label='perovskite (U-Pb)')\n",
    "phlog_marker = plt.scatter([], [], c='darkkhaki', marker='d', label='phlogopite (Ar-Ar)')\n",
    "plt.legend(handles=[zircon_marker,bad_marker,perov_marker,phlog_marker],loc=4)\n",
    "plt.xlim(1200,1100)\n",
    "\n",
    "fig.add_subplot(spec[1])\n",
    "\n",
    "bootstrapped_mins = []\n",
    "bootstrapped_maxs = []\n",
    "\n",
    "for i in range(0,10000):\n",
    "\n",
    "    bootstrapped_dates = []\n",
    "    \n",
    "    resampled_data = Abitibi_dates.sample(n=len(Abitibi_dates),replace = True)\n",
    "    resampled_data.reset_index(inplace=True)\n",
    "\n",
    "    for n in resampled_data.index:\n",
    "        bootstrapped_date = np.random.normal(resampled_data.Age[n], resampled_data.Error_Plus[n]/2, 1)\n",
    "        bootstrapped_dates.append(bootstrapped_date[0])\n",
    "    \n",
    "    bootstrapped_mins.append(np.min(bootstrapped_dates)) \n",
    "    bootstrapped_maxs.append(np.max(bootstrapped_dates)) \n",
    "    if 1000-i > 0:\n",
    "        sns.kdeplot(bootstrapped_dates,bw_adjust=0.8,alpha=0.5,color='C0',shade=False,linewidth=0.1)\n",
    "            \n",
    "sns.kdeplot(Abitibi_dates.Age,bw_adjust=0.8,color='black')\n",
    "plt.xlim(1200,1100)\n",
    "plt.gca().set_xticks([])\n",
    "\n",
    "fig.add_subplot(spec[2])\n",
    "plt.hist(bootstrapped_mins,bins=np.arange(1100,1200,0.5),label='bootstrap min')\n",
    "plt.hist(bootstrapped_maxs,bins=np.arange(1100,1200,0.5),label='bootstrap max')\n",
    "plt.legend()\n",
    "plt.xlim(1200,1100)\n",
    "\n",
    "plt.show()"
   ]
  },
  {
   "cell_type": "code",
   "execution_count": null,
   "metadata": {},
   "outputs": [],
   "source": [
    "Abitibi_max = np.percentile(bootstrapped_maxs,5)\n",
    "Abitibi_min = np.percentile(bootstrapped_mins,95)\n",
    "\n",
    "print(Abitibi_max)\n",
    "print(Abitibi_min)"
   ]
  },
  {
   "cell_type": "markdown",
   "metadata": {},
   "source": [
    "## Midcontinent Rift magmatic activity"
   ]
  },
  {
   "cell_type": "code",
   "execution_count": null,
   "metadata": {},
   "outputs": [],
   "source": [
    "MCR_dates = dates[dates.Geological_Province == 'Midcontinent Rift']\n",
    "MCR_dates = MCR_dates.sort_values('Age',ascending=False)\n",
    "MCR_dates.reset_index(inplace=True)"
   ]
  },
  {
   "cell_type": "code",
   "execution_count": null,
   "metadata": {},
   "outputs": [],
   "source": [
    "fig = plt.figure(figsize=(6,6))\n",
    "spec = gridspec.GridSpec(ncols=1, nrows=3,\n",
    "                         height_ratios=[4, 2, 2])\n",
    "\n",
    "fig.add_subplot(spec[0])\n",
    "\n",
    "plt.errorbar(MCR_dates.Age,\n",
    "             len(Abitibi_dates)+MCR_dates.index,\n",
    "             xerr=MCR_dates.Error_Plus,\n",
    "             fmt='d',color='C0',label='zircon crystallization')\n",
    "\n",
    "plt.xlim(1150,1050)\n",
    "plt.gca().set_yticks([])\n",
    "plt.gca().set_xticks([])\n",
    "\n",
    "plt.legend(handles=[zircon_marker])\n",
    "\n",
    "fig.add_subplot(spec[1])\n",
    "\n",
    "bootstrapped_mins = []\n",
    "bootstrapped_maxs = []\n",
    "\n",
    "for i in range(0,1000):\n",
    "\n",
    "    bootstrapped_dates = []\n",
    "\n",
    "    for n in MCR_dates.index:\n",
    "        bootstrapped_date = np.random.normal(MCR_dates.Age[n], MCR_dates.Error_Plus[n]/2, 1)\n",
    "        bootstrapped_dates.append(bootstrapped_date[0])\n",
    "    \n",
    "    bootstrapped_mins.append(np.min(bootstrapped_dates)) \n",
    "    bootstrapped_maxs.append(np.max(bootstrapped_dates)) \n",
    "#     if 1000-i > 0:\n",
    "#         sns.kdeplot(bootstrapped_dates,bw_adjust=0.8,alpha=0.5,color='C0',shade=False,linewidth=0.1)\n",
    "            \n",
    "sns.kdeplot(MCR_dates.Age,bw_adjust=0.8,color='black')\n",
    "plt.xlim(1150,1050)\n",
    "plt.gca().set_xticks([])\n",
    "\n",
    "fig.add_subplot(spec[2])\n",
    "plt.hist(bootstrapped_mins,bins=np.arange(1000,1200,0.5),label='bootstrap min')\n",
    "plt.hist(bootstrapped_maxs,bins=np.arange(1000,1200,0.5),label='bootstrap max')\n",
    "plt.legend()\n",
    "plt.xlim(1150,1050)\n",
    "\n",
    "plt.show()"
   ]
  },
  {
   "cell_type": "code",
   "execution_count": null,
   "metadata": {},
   "outputs": [],
   "source": [
    "MCR_max = np.percentile(bootstrapped_maxs,5)\n",
    "MCR_min = np.percentile(bootstrapped_mins,95)\n",
    "\n",
    "print(MCR_max)\n",
    "print(MCR_min)"
   ]
  },
  {
   "cell_type": "markdown",
   "metadata": {},
   "source": [
    "## Blue Ridge metamorphism dates\n",
    "\n",
    "Metamorphic dates from the Blue Ridge are compiled using the same headers as the GSC Knowledgebase"
   ]
  },
  {
   "cell_type": "code",
   "execution_count": null,
   "metadata": {},
   "outputs": [],
   "source": [
    "Blue_Ridge_dates = dates[dates.Geological_Province == 'Blue Ridge']\n",
    "Blue_Ridge_dates = Blue_Ridge_dates.sort_values('Age',ascending=False)\n",
    "Blue_Ridge_dates.reset_index(inplace=True)\n",
    "Blue_Ridge_dates.tail(1)"
   ]
  },
  {
   "cell_type": "code",
   "execution_count": null,
   "metadata": {},
   "outputs": [],
   "source": [
    "Blue_Ridge_dates_z = Blue_Ridge_dates[Blue_Ridge_dates.Age_Material == 'zircon']\n",
    "Blue_Ridge_dates_t = Blue_Ridge_dates[Blue_Ridge_dates.Age_Material == 'titanite']\n",
    "Blue_Ridge_dates_g = Blue_Ridge_dates[Blue_Ridge_dates.Age_Material == 'garnet']\n",
    "Blue_Ridge_dates_m = Blue_Ridge_dates[Blue_Ridge_dates.Age_Material == 'monazite']"
   ]
  },
  {
   "cell_type": "code",
   "execution_count": null,
   "metadata": {},
   "outputs": [],
   "source": [
    "fig = plt.figure(figsize=(6,6))\n",
    "spec = gridspec.GridSpec(ncols=1, nrows=2,\n",
    "                         height_ratios=[4, 2])\n",
    "\n",
    "fig.add_subplot(spec[0])\n",
    "\n",
    "plt.errorbar(Blue_Ridge_dates_z.Age,\n",
    "             Blue_Ridge_dates_z.index,\n",
    "             xerr=Blue_Ridge_dates_z.Error_Plus,\n",
    "             fmt='d',color='C0',label='zircon rims')\n",
    "\n",
    "plt.errorbar(Blue_Ridge_dates_t.Age,\n",
    "             Blue_Ridge_dates_t.index,\n",
    "             xerr=Blue_Ridge_dates_t.Error_Plus,\n",
    "             fmt='^',color='C1',label='titanite')\n",
    "\n",
    "plt.errorbar(Blue_Ridge_dates_g.Age,\n",
    "             Blue_Ridge_dates_g.index,\n",
    "             xerr=Blue_Ridge_dates_g.Error_Plus,\n",
    "             fmt='p',color='C3',label='garnet (Lu-Hf)')\n",
    "\n",
    "plt.errorbar(Blue_Ridge_dates_m.Age,\n",
    "             Blue_Ridge_dates_m.index,\n",
    "             xerr=Blue_Ridge_dates_m.Error_Plus,\n",
    "             fmt='p',color='C5',label='monazite')\n",
    "\n",
    "plt.xlim(1200,950)\n",
    "plt.gca().set_yticks([])\n",
    "plt.gca().set_xticks([])\n",
    "plt.legend(loc=2)\n",
    "\n",
    "fig.add_subplot(spec[1])\n",
    "\n",
    "bootstrapped_mins = []\n",
    "bootstrapped_maxs = []\n",
    "\n",
    "for i in range(0,1000):\n",
    "\n",
    "    bootstrapped_dates = []\n",
    "\n",
    "    for n in Blue_Ridge_dates.index:\n",
    "        bootstrapped_date = np.random.normal(Blue_Ridge_dates.Age[n], Blue_Ridge_dates.Error_Plus[n]/2, 1)\n",
    "        bootstrapped_dates.append(bootstrapped_date[0])\n",
    "    \n",
    "    bootstrapped_mins.append(np.min(bootstrapped_dates)) \n",
    "    bootstrapped_maxs.append(np.min(bootstrapped_dates)) \n",
    "    sns.kdeplot(bootstrapped_dates,bw_adjust=0.25,alpha=0.001,color='C0',shade=True,linewidth=0.005)\n",
    "    \n",
    "sns.kdeplot(Blue_Ridge_dates.Age,bw_adjust=0.25,color='black')\n",
    "\n",
    "plt.xlim(1200,950)\n",
    "plt.gca().set_yticks([])\n",
    "plt.xlabel('Date (Ma)')\n",
    "\n",
    "plt.tight_layout()\n",
    "plt.show()"
   ]
  },
  {
   "cell_type": "code",
   "execution_count": null,
   "metadata": {},
   "outputs": [],
   "source": []
  },
  {
   "cell_type": "code",
   "execution_count": null,
   "metadata": {},
   "outputs": [],
   "source": []
  },
  {
   "cell_type": "code",
   "execution_count": null,
   "metadata": {},
   "outputs": [],
   "source": []
  },
  {
   "cell_type": "code",
   "execution_count": null,
   "metadata": {},
   "outputs": [],
   "source": [
    "Grenville_dates = pd.read_csv('../data/Grenville_meta_dates.csv')\n",
    "Grenville_Province_dates = Grenville_dates[Grenville_dates.Geological_Province == 'Grenville Province']\n",
    "Grenville_Province_dates = Grenville_Province_dates.sort_values('Age')\n",
    "Grenville_Province_dates.reset_index(inplace=True)\n",
    "Grenville_Province_dates.tail(1)"
   ]
  },
  {
   "cell_type": "code",
   "execution_count": null,
   "metadata": {},
   "outputs": [],
   "source": [
    "fig = plt.figure(figsize=(6,4))\n",
    "spec = gridspec.GridSpec(ncols=1, nrows=2,\n",
    "                         height_ratios=[2, 2])\n",
    "\n",
    "fig.add_subplot(spec[0])\n",
    "\n",
    "plt.errorbar(Grenville_Province_dates.Age,\n",
    "             Grenville_Province_dates.index,\n",
    "             xerr=Grenville_Province_dates.Error_Plus,\n",
    "             fmt='d',color='C0',label='zircon crystallization')\n",
    "plt.xlim(1200,950)\n",
    "plt.gca().set_yticks([])\n",
    "plt.gca().set_xticks([])\n",
    "plt.legend(loc=1)\n",
    "\n",
    "fig.add_subplot(spec[1])\n",
    "\n",
    "sns.kdeplot(Grenville_Province_dates.Age,bw_adjust=0.1,color='black')\n",
    "plt.xlim(1200,950)\n",
    "\n",
    "plt.gca().set_yticks([])\n",
    "plt.xlabel('Date (Ma)')\n",
    "\n",
    "plt.tight_layout()\n",
    "plt.show()"
   ]
  },
  {
   "cell_type": "code",
   "execution_count": null,
   "metadata": {},
   "outputs": [],
   "source": []
  },
  {
   "cell_type": "code",
   "execution_count": null,
   "metadata": {},
   "outputs": [],
   "source": []
  },
  {
   "cell_type": "code",
   "execution_count": null,
   "metadata": {},
   "outputs": [],
   "source": []
  },
  {
   "cell_type": "code",
   "execution_count": null,
   "metadata": {},
   "outputs": [],
   "source": []
  },
  {
   "cell_type": "code",
   "execution_count": null,
   "metadata": {},
   "outputs": [],
   "source": [
    "Abitibi_min - Abitibi_max"
   ]
  },
  {
   "cell_type": "code",
   "execution_count": null,
   "metadata": {},
   "outputs": [],
   "source": [
    "fig = plt.figure(figsize=(10,6))\n",
    "spec = gridspec.GridSpec(ncols=4, nrows=1,\n",
    "                         width_ratios=[1, 1, 0.4, 1])\n",
    "\n",
    "#Midcontinent\n",
    "fig.add_subplot(spec[0])\n",
    "\n",
    "plt.errorbar(MCR_dates.index,\n",
    "             MCR_dates.Age,\n",
    "             yerr=MCR_dates.Error_Plus,\n",
    "             fmt='d',color='C0')\n",
    "\n",
    "plt.errorbar(Abitibi_dates_b.index,\n",
    "             Abitibi_dates_b.Age,\n",
    "             yerr=Abitibi_dates_b.Error_Plus,\n",
    "             fmt='s',color='C0')\n",
    "\n",
    "plt.errorbar(Abitibi_dates_perov.index,\n",
    "             Abitibi_dates_perov.Age,\n",
    "             yerr=Abitibi_dates_perov.Error_Plus,\n",
    "             fmt='d',color='C2')\n",
    "\n",
    "plt.errorbar(Abitibi_dates_phlog.index,\n",
    "             Abitibi_dates_phlog.Age,\n",
    "             yerr=Abitibi_dates_phlog.Error_Plus,\n",
    "             fmt='d',color='darkkhaki')\n",
    "\n",
    "rectangle = matplotlib.patches.Rectangle((-1, 1106),len(MCR_dates.index)+1, -22, color='lightgrey')\n",
    "plt.gca().add_patch(rectangle)\n",
    "plt.text(0,1080,'Midcontinent Rift\\nmagmatism')\n",
    "\n",
    "rectangle = matplotlib.patches.Rectangle((-1, Abitibi_max),len(MCR_dates.index)+1, Abitibi_min - Abitibi_max, color='lightgrey')\n",
    "plt.gca().add_patch(rectangle)\n",
    "plt.text(20.5,1168,'Abitibi-Corson\\nmagmatism',horizontalalignment='right')\n",
    "\n",
    "plt.ylim(1200,950)\n",
    "plt.xlim(-1,len(MCR_dates.index))\n",
    "plt.gca().set_xticks([])\n",
    "plt.ylabel('Date (Ma)')\n",
    "\n",
    "fig.add_subplot(spec[1])\n",
    "\n",
    "plt.errorbar(Blue_Ridge_dates_z.index[0:8],\n",
    "             Blue_Ridge_dates_z.Age[0:8],\n",
    "             yerr=Blue_Ridge_dates_z.Error_Plus[0:8],\n",
    "             fmt='d',color='C0', markerfacecolor='white',label='zircon rims')\n",
    "\n",
    "plt.errorbar(Blue_Ridge_dates_z.index[8:]-8,\n",
    "             Blue_Ridge_dates_z.Age[8:],\n",
    "             yerr=Blue_Ridge_dates_z.Error_Plus[8:],\n",
    "             fmt='d',color='C0', markerfacecolor='white',label='zircon rims')\n",
    "\n",
    "plt.errorbar(Blue_Ridge_dates_t.index-8,\n",
    "             Blue_Ridge_dates_t.Age,\n",
    "             yerr=Blue_Ridge_dates_t.Error_Plus,\n",
    "             fmt='^',color='C1',label='titanite')\n",
    "\n",
    "plt.errorbar(Blue_Ridge_dates_g.index-8,\n",
    "             Blue_Ridge_dates_g.Age,\n",
    "             yerr=Blue_Ridge_dates_g.Error_Plus,\n",
    "             fmt='p',color='C3',label='garnet (Lu-Hf)')\n",
    "\n",
    "plt.errorbar(Blue_Ridge_dates_m.index-8,\n",
    "             Blue_Ridge_dates_m.Age,\n",
    "             yerr=Blue_Ridge_dates_m.Error_Plus,\n",
    "             fmt='p',color='C5',label='monazite')\n",
    "\n",
    "rectangle = matplotlib.patches.Rectangle((-1, 1083),len(Blue_Ridge_dates.index)+1, -24, color='lightgrey')\n",
    "plt.gca().add_patch(rectangle)\n",
    "plt.text(44,1080,'Ottawan\\nmetamorphism',horizontalalignment='right')\n",
    "\n",
    "rectangle = matplotlib.patches.Rectangle((-1, 1165),len(Blue_Ridge_dates.index)+1, -15, color='lightgrey')\n",
    "plt.gca().add_patch(rectangle)\n",
    "plt.text(44,1165,'Shawinigan\\nmetamorphism',horizontalalignment='right')\n",
    "\n",
    "plt.ylim(1200,950)\n",
    "plt.xlim(-1,len(Blue_Ridge_dates.index)-8)\n",
    "plt.gca().set_xticks([])\n",
    "\n",
    "\n",
    "\n",
    "\n",
    "fig.add_subplot(spec[2])\n",
    "\n",
    "sns.kdeplot(y=Blue_Ridge_dates.Age,bw_adjust=0.25,color='black')\n",
    "plt.ylim(1200,950)\n",
    "\n",
    "plt.gca().axis('off')\n",
    "zircon_marker = plt.errorbar([], [], c='C0', marker='d', label='zircon (U-Pb)')\n",
    "zircon_rim_marker = plt.errorbar([], [], c='C0', marker='d', markerfacecolor='white', label='zircon rim (U-Pb)')\n",
    "bad_marker = plt.errorbar([], [], c='C0', marker='s', label='baddeleyite (U-Pb)')\n",
    "perov_marker = plt.errorbar([], [], c='C2', marker='d', label='perovskite (U-Pb)')\n",
    "phlog_marker = plt.errorbar([], [], c='darkkhaki', marker='d', label='phlogopite (Ar-Ar)')\n",
    "legend_ig = plt.legend(handles=[zircon_marker,\n",
    "                    bad_marker,\n",
    "                    perov_marker,\n",
    "                    phlog_marker],loc= 'upper center',title='igneous dates')\n",
    "legend_meta = plt.legend(handles=[zircon_rim_marker],\n",
    "                         loc= 'lower center',title='metamorphic dates')\n",
    "plt.gca().add_artist(legend_ig)\n",
    "plt.gca().add_artist(legend_meta)\n",
    "\n",
    "plt.tight_layout()\n",
    "plt.show()"
   ]
  },
  {
   "cell_type": "code",
   "execution_count": null,
   "metadata": {},
   "outputs": [],
   "source": []
  },
  {
   "cell_type": "markdown",
   "metadata": {},
   "source": [
    "## Import the Canadian Geochronology Knowledgebase\n",
    "\n",
    "The CGKB compilation represents publicly available geochronological information for  Canada. The data is compiled from federal, provincial and territorial government publications and reports, university theses, books and journal articles.\n",
    "\n",
    "https://www.nrcan.gc.ca/maps-tools-publications/tools/geodetic-reference-systems/canadian-geochronology-knowledgebase/18211"
   ]
  },
  {
   "cell_type": "code",
   "execution_count": null,
   "metadata": {},
   "outputs": [],
   "source": [
    "GSC_data = pd.read_csv('../data/GSC_compilation/Geochron_en.txt',sep='\\t')\n",
    "GSC_data.head(1)"
   ]
  },
  {
   "cell_type": "code",
   "execution_count": null,
   "metadata": {},
   "outputs": [],
   "source": [
    "GSC_data_meta = GSC_data[(GSC_data.Age_Interpretation == 'Peak Metamorphic') | (GSC_data.Age_Interpretation == 'Metamorphic')]\n",
    "GSC_data_ign = GSC_data[(GSC_data.Age_Interpretation == 'Igneous Crystallization')]\n",
    "GSC_data_meta_Grenville = GSC_data_meta[GSC_data_meta.Geological_Province == 'Grenville Province']\n",
    "GSC_data_meta_Grenville.head(1)"
   ]
  },
  {
   "cell_type": "code",
   "execution_count": null,
   "metadata": {},
   "outputs": [],
   "source": [
    "Grenville_monazite = GSC_data_meta[(GSC_data_meta.Geological_Province == 'Grenville Province') & \n",
    "                                   (GSC_data_meta.Age_Material == 'Monazite') &  \n",
    "                                    (GSC_data_meta.Error_Plus != 0) &  \n",
    "                                    (GSC_data_meta.Error_Plus < 20)]\n",
    "\n",
    "Grenville_monazite = Grenville_monazite[Grenville_monazite.Age_Note != 'Grey-literature: information and age quality to be verified by user']\n",
    "Grenville_monazite = Grenville_monazite.sort_values('Age')\n",
    "Grenville_monazite.reset_index(inplace=True)\n",
    "Grenville_monazite.to_csv('../data/GSC_compilation/GSC_data_meta_Grenville_monazite.csv')"
   ]
  },
  {
   "cell_type": "code",
   "execution_count": null,
   "metadata": {},
   "outputs": [],
   "source": [
    "fig = plt.figure(figsize=(6,4))\n",
    "spec = gridspec.GridSpec(ncols=1, nrows=2,\n",
    "                         height_ratios=[2, 2])\n",
    "\n",
    "fig.add_subplot(spec[0])\n",
    "\n",
    "plt.errorbar(Grenville_monazite.Age,\n",
    "             Grenville_monazite.index,\n",
    "             xerr=Grenville_monazite.Error_Plus,\n",
    "             fmt='d',color='C0',label='zircon crystallization')\n",
    "plt.xlim(1200,950)\n",
    "plt.gca().set_yticks([])\n",
    "plt.gca().set_xticks([])\n",
    "plt.legend(loc=1)\n",
    "\n",
    "fig.add_subplot(spec[1])\n",
    "\n",
    "sns.kdeplot(Grenville_monazite.Age,bw_adjust=0.2,color='black')\n",
    "plt.xlim(1200,950)\n",
    "\n",
    "plt.gca().set_yticks([])\n",
    "plt.xlabel('Date (Ma)')\n",
    "\n",
    "plt.tight_layout()\n",
    "plt.show()"
   ]
  },
  {
   "cell_type": "code",
   "execution_count": null,
   "metadata": {},
   "outputs": [],
   "source": []
  },
  {
   "cell_type": "code",
   "execution_count": null,
   "metadata": {},
   "outputs": [],
   "source": []
  },
  {
   "cell_type": "code",
   "execution_count": null,
   "metadata": {},
   "outputs": [],
   "source": []
  },
  {
   "cell_type": "code",
   "execution_count": null,
   "metadata": {},
   "outputs": [],
   "source": []
  },
  {
   "cell_type": "code",
   "execution_count": null,
   "metadata": {},
   "outputs": [],
   "source": [
    "fig, ax = plt.subplots()\n",
    "sns.kdeplot(MCR_dates.U_Pb_sample_mean,bw_adjust=1,color='tomato',ax=ax,label='Midcontinent Rift magmatism')\n",
    "ax.set_yticks([])\n",
    "plt.xlabel('Date (Ma)')\n",
    "plt.legend(loc='upper left',bbox_to_anchor=[0,1.12])\n",
    "\n",
    "ax2 = ax.twinx()\n",
    "sns.kdeplot(Grenville_dates.Date,bw_adjust=0.3,color='C0',ax=ax2,label='Blue Ridge metamorphism')\n",
    "ax2.set_yticks([])\n",
    "plt.legend(loc='upper left',bbox_to_anchor=[0,1.2])\n",
    "plt.ylabel('')\n",
    "plt.xlabel('')\n",
    "plt.xlim(1200,950)\n",
    "plt.show()"
   ]
  },
  {
   "cell_type": "code",
   "execution_count": null,
   "metadata": {},
   "outputs": [],
   "source": [
    "bootstrapped_dates"
   ]
  },
  {
   "cell_type": "code",
   "execution_count": null,
   "metadata": {},
   "outputs": [],
   "source": [
    "Grenville_dates.Date"
   ]
  },
  {
   "cell_type": "code",
   "execution_count": null,
   "metadata": {},
   "outputs": [],
   "source": []
  },
  {
   "cell_type": "code",
   "execution_count": null,
   "metadata": {},
   "outputs": [],
   "source": []
  },
  {
   "cell_type": "code",
   "execution_count": null,
   "metadata": {},
   "outputs": [],
   "source": []
  },
  {
   "cell_type": "code",
   "execution_count": null,
   "metadata": {},
   "outputs": [],
   "source": []
  },
  {
   "cell_type": "code",
   "execution_count": null,
   "metadata": {},
   "outputs": [],
   "source": [
    "def weighted_mean(dates,sigma):\n",
    "    \n",
    "    \"\"\"\n",
    "    calculated a weighted mean from dates and uncertainities\n",
    "    \n",
    "    input parameters\n",
    "    ----------------\n",
    "    dates: date of individual grains\n",
    "    sigma: 1 sigma uncertainty associated with dates\n",
    "    \n",
    "    returns\n",
    "    ----------------\n",
    "    weighted_mean, 2 sigma uncertainty\n",
    "    \n",
    "    \"\"\"\n",
    "    \n",
    "    inverse_variance=[]\n",
    "    alpha=[]\n",
    "    weighted_mean_calc=[]\n",
    "    \n",
    "    for n in range(0,len(dates)):\n",
    "        value = 1/sigma[n]**2\n",
    "        inverse_variance.append(value)\n",
    "    inverse_variance_sum = np.sum(inverse_variance)\n",
    "    \n",
    "    for n in range(0,len(dates)):\n",
    "        value = (1/sigma[n]**2)/inverse_variance_sum\n",
    "        alpha.append(value)\n",
    "        \n",
    "    #calculate the weights for each date\n",
    "    for n in range(0,len(dates)):\n",
    "        value = alpha[n]*dates[n]\n",
    "        weighted_mean_calc.append(value)\n",
    "    \n",
    "    #take the sum of the weights multiplied by the dates to get the weighted\n",
    "    #mean (equation 64 of McLean et al., 2011)\n",
    "    weighted_mean = np.sum(weighted_mean_calc)\n",
    "    \n",
    "    #the variance of the weighted mean is simply the inverse of the sum of\n",
    "    #the inverse variances of each date (equation 66 of McLean et al., 2011)\n",
    "    variance = 1/inverse_variance_sum\n",
    "    \n",
    "    weighted_mean_sigma = np.sqrt(variance)\n",
    "    \n",
    "    n = len(dates)\n",
    "    \n",
    "    print('The weighted mean is:')\n",
    "\n",
    "    print(weighted_mean)\n",
    "\n",
    "    print('With a 2sigma error of:')\n",
    "\n",
    "    print(2*weighted_mean_sigma)\n",
    "    \n",
    "    print('N=' )\n",
    "    print(n)\n",
    "    \n",
    "    return weighted_mean, 2*weighted_mean_sigma"
   ]
  },
  {
   "cell_type": "markdown",
   "metadata": {},
   "source": [
    "Data from **Constraints on the timing and duration of orogenic events by combined Lu–Hf and Sm–Nd geochronology: An example from the Grenville orogeny**\n",
    "\n",
    "Errors are 1$\\sigma$"
   ]
  },
  {
   "cell_type": "code",
   "execution_count": null,
   "metadata": {},
   "outputs": [],
   "source": [
    "J2018_z = pd.read_csv('../data/Johnson2018/Johnson2018_zircon.csv')\n",
    "J2018_z_rim = J2018_z[J2018_z.rim_core=='rim']\n",
    "J2018_z_rim_BV10 = J2018_z_rim[J2018_z_rim['sample_ID']=='BV10']\n",
    "J2018_z_rim_S09 = J2018_z_rim[J2018_z_rim['sample_ID']=='S09']\n",
    "J2018_z_rim_S10 = J2018_z_rim[J2018_z_rim['sample_ID']=='S10']\n",
    "J2018_z_rim_ST10 = J2018_z_rim[J2018_z_rim['sample_ID']=='ST10']"
   ]
  },
  {
   "cell_type": "code",
   "execution_count": null,
   "metadata": {},
   "outputs": [],
   "source": [
    "J2018_z_rim_BV10"
   ]
  },
  {
   "cell_type": "code",
   "execution_count": null,
   "metadata": {},
   "outputs": [],
   "source": [
    "weighted_mean(J2018_z_rim_BV10['207Pb_206Pb_date'].tolist(),J2018_z_rim_BV10['207Pb_206Pb_date_err'].tolist())"
   ]
  },
  {
   "cell_type": "code",
   "execution_count": null,
   "metadata": {},
   "outputs": [],
   "source": [
    "J2018_z_rim_S09"
   ]
  },
  {
   "cell_type": "code",
   "execution_count": null,
   "metadata": {},
   "outputs": [],
   "source": [
    "weighted_mean(J2018_z_rim_S09['207Pb_206Pb_date'].tolist(),J2018_z_rim_S09['207Pb_206Pb_date_err'].tolist())"
   ]
  },
  {
   "cell_type": "code",
   "execution_count": null,
   "metadata": {},
   "outputs": [],
   "source": [
    "J2018_z_rim_S10"
   ]
  },
  {
   "cell_type": "code",
   "execution_count": null,
   "metadata": {},
   "outputs": [],
   "source": [
    "weighted_mean(J2018_z_rim_S10['207Pb_206Pb_date'].tolist(),J2018_z_rim_S10['207Pb_206Pb_date_err'].tolist())"
   ]
  },
  {
   "cell_type": "code",
   "execution_count": null,
   "metadata": {},
   "outputs": [],
   "source": [
    "J2018_z_rim_ST10"
   ]
  },
  {
   "cell_type": "code",
   "execution_count": null,
   "metadata": {},
   "outputs": [],
   "source": [
    "sns.histplot(J2018_z_rim['207Pb_206Pb_date'],bins=np.arange(800,1300,10))\n",
    "plt.xlim(1250,950)\n",
    "plt.xlabel('Date (Ma)')\n",
    "plt.show()"
   ]
  },
  {
   "cell_type": "code",
   "execution_count": null,
   "metadata": {},
   "outputs": [],
   "source": [
    "file_150 = '../data/Williams2019/16TG150-Elephant-Rock-Monazite-Composition-reformat.xlsx'\n",
    "file_151 = '../data/Williams2019/16Tg151-Treadway-Mountain-Monzite-Composition-Reformat.xlsx'\n",
    "file_153 = '../data/Williams2019/16TG153-Dixon-schist-Monazite Composition-reformat.xlsx'\n",
    "file_154 = '../data/Williams2019/16TG154-Swede-Pond-Monazite-Composition-reformat.xlsx'\n",
    "\n",
    "M2019_150 = pd.read_excel(file_150,header=2,nrows=24)\n",
    "M2019_151 = pd.read_excel(file_151,header=2,nrows=37)\n",
    "M2019_153 = pd.read_excel(file_153,header=2,nrows=14)\n",
    "M2019_154 = pd.read_excel(file_154,header=3,nrows=37)\n",
    "\n",
    "M2019_dates = M2019_150.Date.tolist() + M2019_151.Date.tolist() + M2019_153.Date.tolist() + M2019_154.Date.tolist()"
   ]
  },
  {
   "cell_type": "code",
   "execution_count": null,
   "metadata": {},
   "outputs": [],
   "source": [
    "sns.histplot(M2019_dates,bins=50)\n",
    "plt.xlim(1250,950)\n",
    "plt.xlabel('Date (Ma)')\n",
    "plt.show()"
   ]
  },
  {
   "cell_type": "code",
   "execution_count": null,
   "metadata": {},
   "outputs": [],
   "source": [
    "sns.kdeplot(M2019_dates,bw_adjust=0.4)\n",
    "plt.xlim(1250,950)\n",
    "plt.xlabel('Date (Ma)')\n",
    "plt.show()"
   ]
  },
  {
   "cell_type": "code",
   "execution_count": null,
   "metadata": {},
   "outputs": [],
   "source": []
  },
  {
   "cell_type": "code",
   "execution_count": null,
   "metadata": {},
   "outputs": [],
   "source": []
  },
  {
   "cell_type": "code",
   "execution_count": null,
   "metadata": {},
   "outputs": [],
   "source": []
  },
  {
   "cell_type": "code",
   "execution_count": null,
   "metadata": {},
   "outputs": [],
   "source": []
  },
  {
   "cell_type": "code",
   "execution_count": null,
   "metadata": {},
   "outputs": [],
   "source": []
  },
  {
   "cell_type": "code",
   "execution_count": null,
   "metadata": {},
   "outputs": [],
   "source": []
  },
  {
   "cell_type": "markdown",
   "metadata": {},
   "source": []
  },
  {
   "cell_type": "code",
   "execution_count": null,
   "metadata": {},
   "outputs": [],
   "source": []
  },
  {
   "cell_type": "code",
   "execution_count": null,
   "metadata": {},
   "outputs": [],
   "source": [
    "GSC_data.Age_Interpretation.unique()"
   ]
  },
  {
   "cell_type": "code",
   "execution_count": null,
   "metadata": {},
   "outputs": [],
   "source": []
  },
  {
   "cell_type": "code",
   "execution_count": null,
   "metadata": {},
   "outputs": [],
   "source": [
    "plt.hist(GSC_data_meta.Age,bins=400)\n",
    "plt.xlim(2000,0)\n",
    "plt.title('Metamorphic dates within GSC Knowledgebase')\n",
    "plt.xlabel('Age (Ma)')\n",
    "plt.ylabel('n')\n",
    "plt.show()"
   ]
  },
  {
   "cell_type": "code",
   "execution_count": null,
   "metadata": {},
   "outputs": [],
   "source": [
    "plt.subplot(2,1,1)\n",
    "plt.hist(GSC_data_ign.Age,bins=100)\n",
    "plt.xlim(2000,0)\n",
    "plt.xlabel('Age (Ma)')\n",
    "plt.subplot(2,1,2)\n",
    "plt.hist(GSC_data_meta.Age,bins=100)\n",
    "plt.xlim(2000,0)\n",
    "plt.show()"
   ]
  },
  {
   "cell_type": "code",
   "execution_count": null,
   "metadata": {},
   "outputs": [],
   "source": []
  },
  {
   "cell_type": "markdown",
   "metadata": {},
   "source": [
    "Grenville Province data from GSC compilation\n",
    "\n"
   ]
  },
  {
   "cell_type": "code",
   "execution_count": null,
   "metadata": {},
   "outputs": [],
   "source": []
  },
  {
   "cell_type": "code",
   "execution_count": null,
   "metadata": {},
   "outputs": [],
   "source": [
    "plt.hist(GSC_data_meta_Grenville_monazite.Age,bins=400)\n",
    "plt.xlim(1250,900)\n",
    "plt.title('Metamorphic dates within GSC Knowledgebase')\n",
    "plt.xlabel('Age (Ma)')\n",
    "plt.ylabel('n')\n",
    "plt.show()"
   ]
  },
  {
   "cell_type": "code",
   "execution_count": null,
   "metadata": {},
   "outputs": [],
   "source": [
    "12"
   ]
  }
 ],
 "metadata": {
  "kernelspec": {
   "display_name": "Python 3",
   "language": "python",
   "name": "python3"
  },
  "language_info": {
   "codemirror_mode": {
    "name": "ipython",
    "version": 3
   },
   "file_extension": ".py",
   "mimetype": "text/x-python",
   "name": "python",
   "nbconvert_exporter": "python",
   "pygments_lexer": "ipython3",
   "version": "3.8.5"
  },
  "toc-autonumbering": false
 },
 "nbformat": 4,
 "nbformat_minor": 4
}
